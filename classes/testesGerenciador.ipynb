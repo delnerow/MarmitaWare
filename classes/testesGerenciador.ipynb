{
 "cells": [
  {
   "cell_type": "code",
   "execution_count": null,
   "id": "810ff5e4",
   "metadata": {},
   "outputs": [],
   "source": [
    "#teste de leitura do banco de dados\n",
    "from gerenciadorBD import GerenciadorBD\n",
    "\n",
    "gerenciador = GerenciadorBD()\n",
    "gerenciador.getIngredientes()"
   ]
  },
  {
   "cell_type": "code",
   "execution_count": null,
   "id": "496ba2b4",
   "metadata": {},
   "outputs": [],
   "source": [
    "#teste de leitura e estancia de ingredientes\n",
    "from gerenciadorBD import GerenciadorBD\n",
    "from ingrediente import Ingrediente, FactoryIngrediente\n",
    "\n",
    "gerenciador = GerenciadorBD()\n",
    "ids = gerenciador.getProximoID()\n",
    "\n",
    "ingredienteFactory = FactoryIngrediente(ids['ingredientes'])\n",
    "ingredientes_data = gerenciador.getIngredientes()\n",
    "ingredientes = []\n",
    "for data in ingredientes_data:\n",
    "    ingrediente = ingredienteFactory.FromDB(data)\n",
    "    ingredientes.append(ingrediente)\n",
    "\n",
    "for ingrediente in ingredientes:\n",
    "    ingrediente.print_ingrediente()"
   ]
  },
  {
   "cell_type": "code",
   "execution_count": null,
   "id": "3064e5d1",
   "metadata": {},
   "outputs": [],
   "source": [
    "#teste de leitura e estancia de ingredientes utilizando App\n",
    "from gerenciadorApp import GerenciadorApp\n",
    "gerenciadorApp = GerenciadorApp()\n",
    "\n",
    "# somente valores\n",
    "for ingrediente in gerenciadorApp.ingredientes.values():\n",
    "    ingrediente.print_ingrediente()\n"
   ]
  },
  {
   "cell_type": "code",
   "execution_count": 1,
   "id": "b60544b4",
   "metadata": {},
   "outputs": [
    {
     "data": {
      "text/plain": [
       "[{'id_compra': 1,\n",
       "  'data_de_compra': '2025-10-01',\n",
       "  'valor_total': 250,\n",
       "  'ingredientes': [1, 2, 3],\n",
       "  'preco_ingredientes': {1: 5, 2: 7.5, 3: 14.5}}]"
      ]
     },
     "execution_count": 1,
     "metadata": {},
     "output_type": "execute_result"
    }
   ],
   "source": [
    "#teste de leitura e estancia de compras\n",
    "from gerenciadorBD import GerenciadorBD\n",
    "from compra import Compra, FactoryCompra\n",
    "\n",
    "gerenciador = GerenciadorBD()\n",
    "ids = gerenciador.getProximoID()\n",
    "\n",
    "gerenciador.getCompras()"
   ]
  },
  {
   "cell_type": "code",
   "execution_count": 1,
   "id": "f34b36d9",
   "metadata": {},
   "outputs": [
    {
     "name": "stdout",
     "output_type": "stream",
     "text": [
      "ID: 1, Data: 2025-10-01, Valor Total: 250.0, Ingredientes: [1, 2, 3], Preço Ingredientes: {1: 5, 2: 7.5, 3: 14.5}\n"
     ]
    }
   ],
   "source": [
    "#teste de leitura e estancia de compras utilizando App\n",
    "from gerenciadorApp import GerenciadorApp\n",
    "gerenciadorApp = GerenciadorApp()\n",
    "\n",
    "# somente valores\n",
    "for compra in gerenciadorApp.compras.values():\n",
    "    compra.print_compra()\n"
   ]
  },
  {
   "cell_type": "code",
   "execution_count": 1,
   "id": "99d9a81c",
   "metadata": {},
   "outputs": [
    {
     "data": {
      "text/plain": [
       "[{'id_marmita': 1,\n",
       "  'nome_marmita': 'Frango Grelhado c/ Arroz e Feijão',\n",
       "  'preco_venda': 25,\n",
       "  'custo_estimado': 8,\n",
       "  'ingredientes': [1, 2, 3, 7],\n",
       "  'quantidade_ingredientes': {1: 0.15, 2: 0.1, 3: 0.15, 7: 0.005}},\n",
       " {'id_marmita': 2,\n",
       "  'nome_marmita': 'Carne Moída c/ Purê',\n",
       "  'preco_venda': 28,\n",
       "  'custo_estimado': 10.5,\n",
       "  'ingredientes': [4, 5, 7, 8],\n",
       "  'quantidade_ingredientes': {4: 0.12, 5: 0.2, 7: 0.005, 8: 0.05}},\n",
       " {'id_marmita': 3,\n",
       "  'nome_marmita': 'Omelete Simples',\n",
       "  'preco_venda': 20,\n",
       "  'custo_estimado': 5,\n",
       "  'ingredientes': [6, 7],\n",
       "  'quantidade_ingredientes': {6: 3, 7: 0.003}}]"
      ]
     },
     "execution_count": 1,
     "metadata": {},
     "output_type": "execute_result"
    }
   ],
   "source": [
    "#teste de leitura e estancia de marmitas\n",
    "from gerenciadorBD import GerenciadorBD\n",
    "from marmita import Marmita, FactoryMarmita\n",
    "\n",
    "gerenciador = GerenciadorBD()\n",
    "ids = gerenciador.getProximoID()\n",
    "\n",
    "gerenciador.getMarmitas()"
   ]
  },
  {
   "cell_type": "code",
   "execution_count": 1,
   "id": "88418e1c",
   "metadata": {},
   "outputs": [
    {
     "name": "stdout",
     "output_type": "stream",
     "text": [
      "ID: 1, Nome: Frango Grelhado c/ Arroz e Feijão, Ingredientes: [1, 2, 3, 7], Preço de Venda: 25, Quantidade de Ingredientes: {1: 0.15, 2: 0.1, 3: 0.15, 7: 0.005}, Custo Estimado: 8\n",
      "ID: 2, Nome: Carne Moída c/ Purê, Ingredientes: [4, 5, 7, 8], Preço de Venda: 28, Quantidade de Ingredientes: {4: 0.12, 5: 0.2, 7: 0.005, 8: 0.05}, Custo Estimado: 10.5\n",
      "ID: 3, Nome: Omelete Simples, Ingredientes: [6, 7], Preço de Venda: 20, Quantidade de Ingredientes: {6: 3, 7: 0.003}, Custo Estimado: 5\n"
     ]
    }
   ],
   "source": [
    "#teste de leitura e estancia de compras utilizando App\n",
    "from gerenciadorApp import GerenciadorApp\n",
    "gerenciadorApp = GerenciadorApp()\n",
    "\n",
    "# somente valores\n",
    "for marmita in gerenciadorApp.marmitas.values():\n",
    "    marmita.print_marmita()"
   ]
  },
  {
   "cell_type": "code",
   "execution_count": 1,
   "id": "6066a1e9",
   "metadata": {},
   "outputs": [
    {
     "data": {
      "text/plain": [
       "[{'id_venda': 1,\n",
       "  'id_marmita': 1,\n",
       "  'data_de_venda': '2025-10-10',\n",
       "  'quantidade_vendida': 10},\n",
       " {'id_venda': 2,\n",
       "  'id_marmita': 2,\n",
       "  'data_de_venda': '2025-10-10',\n",
       "  'quantidade_vendida': 5},\n",
       " {'id_venda': 3,\n",
       "  'id_marmita': 3,\n",
       "  'data_de_venda': '2025-10-11',\n",
       "  'quantidade_vendida': 8}]"
      ]
     },
     "execution_count": 1,
     "metadata": {},
     "output_type": "execute_result"
    }
   ],
   "source": [
    "#teste de leitura e estancia de vendas\n",
    "from gerenciadorBD import GerenciadorBD\n",
    "from venda import Venda, FactoryVenda\n",
    "\n",
    "gerenciador = GerenciadorBD()\n",
    "ids = gerenciador.getProximoID()\n",
    "\n",
    "gerenciador.getVendas()"
   ]
  },
  {
   "cell_type": "code",
   "execution_count": 2,
   "id": "5f838ace",
   "metadata": {},
   "outputs": [
    {
     "name": "stdout",
     "output_type": "stream",
     "text": [
      "ID: 1, Marmita: 1, Quantidade: 10, Data: 2025-10-10\n",
      "ID: 2, Marmita: 2, Quantidade: 5, Data: 2025-10-10\n",
      "ID: 3, Marmita: 3, Quantidade: 8, Data: 2025-10-11\n"
     ]
    }
   ],
   "source": [
    "#teste de leitura e estancia de vendas utilizando App\n",
    "from gerenciadorApp import GerenciadorApp\n",
    "gerenciadorApp = GerenciadorApp()\n",
    "\n",
    "# somente valores\n",
    "for venda in gerenciadorApp.vendas.values():\n",
    "    venda.print_venda()"
   ]
  },
  {
   "cell_type": "code",
   "execution_count": 5,
   "id": "b321f06e",
   "metadata": {},
   "outputs": [
    {
     "name": "stdout",
     "output_type": "stream",
     "text": [
      "ID: 1, Marmita: 1, Quantidade: 10, Data: 2025-10-10\n",
      "ID: 2, Marmita: 2, Quantidade: 5, Data: 2025-10-10\n",
      "ID: 3, Marmita: 3, Quantidade: 8, Data: 2025-10-11\n",
      "-----\n",
      "ID: 1, Nome: Frango Grelhado c/ Arroz e Feijão, Ingredientes: [1, 2, 3, 7], Preço de Venda: 25, Quantidade de Ingredientes: {1: 0.15, 2: 0.1, 3: 0.15, 7: 0.005}, Custo Estimado: 8\n",
      "ID: 2, Nome: Carne Moída c/ Purê, Ingredientes: [4, 5, 7, 8], Preço de Venda: 28, Quantidade de Ingredientes: {4: 0.12, 5: 0.2, 7: 0.005, 8: 0.05}, Custo Estimado: 10.5\n",
      "ID: 3, Nome: Omelete Simples, Ingredientes: [6, 7], Preço de Venda: 20, Quantidade de Ingredientes: {6: 3, 7: 0.003}, Custo Estimado: 5\n",
      "-----\n",
      "ID: 1, Nome: Arroz Agulhinha, Preço de Compra: 5.0, Data da Última Compra: 2025-10-01, ID Unidade: 1\n",
      "ID: 2, Nome: Feijão Carioca, Preço de Compra: 7.5, Data da Última Compra: 2025-10-01, ID Unidade: 1\n",
      "ID: 3, Nome: Peito de Frango, Preço de Compra: 14.5, Data da Última Compra: 2025-10-01, ID Unidade: 1\n",
      "ID: 4, Nome: Carne Bovina (Patinho), Preço de Compra: 35.0, Data da Última Compra: 2025-10-14, ID Unidade: 1\n",
      "ID: 5, Nome: Batata Inglesa, Preço de Compra: 3.0, Data da Última Compra: 2025-10-14, ID Unidade: 1\n",
      "ID: 6, Nome: Ovo de Galinha, Preço de Compra: 0.7, Data da Última Compra: 2025-10-14, ID Unidade: 2\n",
      "ID: 7, Nome: Óleo de Soja, Preço de Compra: 9.0, Data da Última Compra: 2025-10-14, ID Unidade: 3\n",
      "ID: 8, Nome: Cenoura, Preço de Compra: 2.5, Data da Última Compra: 2025-10-14, ID Unidade: 1\n",
      "ID: 9, Nome: Feijão Preto, Preço de Compra: 7.9, Data da Última Compra: 2025-10-14, ID Unidade: 1\n",
      "-----\n",
      "ID: 1, Data: 2025-10-01, Valor Total: 250.0, Ingredientes: [1, 2, 3], Preço Ingredientes: {1: 5, 2: 7.5, 3: 14.5}\n"
     ]
    }
   ],
   "source": [
    "#teste geral, com leitura de todos os dados utilizando App\n",
    "from gerenciadorApp import GerenciadorApp\n",
    "gerenciadorApp = GerenciadorApp()\n",
    "\n",
    "vendas = gerenciadorApp.vendas\n",
    "marmitas = gerenciadorApp.marmitas\n",
    "ingredientes = gerenciadorApp.ingredientes\n",
    "compras = gerenciadorApp.compras\n",
    "\n",
    "for venda in vendas.values():\n",
    "    venda.print_venda()\n",
    "print(\"-----\")\n",
    "for marmita in marmitas.values():\n",
    "    marmita.print_marmita()\n",
    "\n",
    "print(\"-----\")\n",
    "for ingrediente in ingredientes.values():\n",
    "    ingrediente.print_ingrediente()\n",
    "\n",
    "print(\"-----\")\n",
    "for compra in compras.values():\n",
    "    compra.print_compra()"
   ]
  }
 ],
 "metadata": {
  "kernelspec": {
   "display_name": "base",
   "language": "python",
   "name": "python3"
  },
  "language_info": {
   "codemirror_mode": {
    "name": "ipython",
    "version": 3
   },
   "file_extension": ".py",
   "mimetype": "text/x-python",
   "name": "python",
   "nbconvert_exporter": "python",
   "pygments_lexer": "ipython3",
   "version": "3.9.13"
  }
 },
 "nbformat": 4,
 "nbformat_minor": 5
}
