{
 "cells": [
  {
   "cell_type": "code",
   "execution_count": null,
   "id": "810ff5e4",
   "metadata": {},
   "outputs": [],
   "source": [
    "#teste de leitura do banco de dados\n",
    "from gerenciadorBD import GerenciadorBD\n",
    "\n",
    "gerenciador = GerenciadorBD()\n",
    "gerenciador.getIngredientes()"
   ]
  },
  {
   "cell_type": "code",
   "execution_count": null,
   "id": "496ba2b4",
   "metadata": {},
   "outputs": [],
   "source": [
    "#teste de leitura e estancia de ingredientes\n",
    "from gerenciadorBD import GerenciadorBD\n",
    "from ingrediente import Ingrediente, FactoryIngrediente\n",
    "\n",
    "gerenciador = GerenciadorBD()\n",
    "ids = gerenciador.getProximoID()\n",
    "\n",
    "ingredienteFactory = FactoryIngrediente(ids['ingredientes'])\n",
    "ingredientes_data = gerenciador.getIngredientes()\n",
    "ingredientes = []\n",
    "for data in ingredientes_data:\n",
    "    ingrediente = ingredienteFactory.FromDB(data)\n",
    "    ingredientes.append(ingrediente)\n",
    "\n",
    "for ingrediente in ingredientes:\n",
    "    ingrediente.print_ingrediente()"
   ]
  }
 ],
 "metadata": {
  "kernelspec": {
   "display_name": "base",
   "language": "python",
   "name": "python3"
  },
  "language_info": {
   "codemirror_mode": {
    "name": "ipython",
    "version": 3
   },
   "file_extension": ".py",
   "mimetype": "text/x-python",
   "name": "python",
   "nbconvert_exporter": "python",
   "pygments_lexer": "ipython3",
   "version": "3.9.13"
  }
 },
 "nbformat": 4,
 "nbformat_minor": 5
}
