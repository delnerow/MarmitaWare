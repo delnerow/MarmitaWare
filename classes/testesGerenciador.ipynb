{
 "cells": [
  {
   "cell_type": "code",
   "execution_count": null,
   "id": "810ff5e4",
   "metadata": {},
   "outputs": [],
   "source": [
    "#teste de leitura do banco de dados\n",
    "from gerenciadorBD import GerenciadorBD\n",
    "\n",
    "gerenciador = GerenciadorBD()\n",
    "gerenciador.getIngredientes()"
   ]
  },
  {
   "cell_type": "code",
   "execution_count": null,
   "id": "496ba2b4",
   "metadata": {},
   "outputs": [],
   "source": [
    "#teste de leitura e estancia de ingredientes\n",
    "from gerenciadorBD import GerenciadorBD\n",
    "from ingrediente import Ingrediente, FactoryIngrediente\n",
    "\n",
    "gerenciador = GerenciadorBD()\n",
    "ids = gerenciador.getProximoID()\n",
    "\n",
    "ingredienteFactory = FactoryIngrediente(ids['ingredientes'])\n",
    "ingredientes_data = gerenciador.getIngredientes()\n",
    "ingredientes = []\n",
    "for data in ingredientes_data:\n",
    "    ingrediente = ingredienteFactory.FromDB(data)\n",
    "    ingredientes.append(ingrediente)\n",
    "\n",
    "for ingrediente in ingredientes:\n",
    "    ingrediente.print_ingrediente()"
   ]
  },
  {
   "cell_type": "code",
   "execution_count": null,
   "id": "3064e5d1",
   "metadata": {},
   "outputs": [],
   "source": [
    "#teste de leitura e estancia de ingredientes utilizando App\n",
    "from gerenciadorApp import GerenciadorApp\n",
    "gerenciadorApp = GerenciadorApp()\n",
    "\n",
    "# somente valores\n",
    "for ingrediente in gerenciadorApp.ingredientes.values():\n",
    "    ingrediente.print_ingrediente()\n"
   ]
  },
  {
   "cell_type": "code",
   "execution_count": 1,
   "id": "f34b36d9",
   "metadata": {},
   "outputs": [
    {
     "name": "stdout",
     "output_type": "stream",
     "text": [
      "ID: 1, Data: None, Valor Total: 250.0, Ingredientes: None, Preço Ingredientes: None\n"
     ]
    }
   ],
   "source": [
    "#teste de leitura e estancia de compras utilizando App\n",
    "from gerenciadorApp import GerenciadorApp\n",
    "gerenciadorApp = GerenciadorApp()\n",
    "\n",
    "# somente valores\n",
    "for compra in gerenciadorApp.compras.values():\n",
    "    compra.print_compra()\n"
   ]
  }
 ],
 "metadata": {
  "kernelspec": {
   "display_name": "base",
   "language": "python",
   "name": "python3"
  },
  "language_info": {
   "codemirror_mode": {
    "name": "ipython",
    "version": 3
   },
   "file_extension": ".py",
   "mimetype": "text/x-python",
   "name": "python",
   "nbconvert_exporter": "python",
   "pygments_lexer": "ipython3",
   "version": "3.9.13"
  }
 },
 "nbformat": 4,
 "nbformat_minor": 5
}
