{
 "cells": [
  {
   "cell_type": "code",
   "execution_count": null,
   "id": "810ff5e4",
   "metadata": {},
   "outputs": [],
   "source": [
    "#teste de leitura do banco de dados\n",
    "from gerenciadorBD import GerenciadorBD\n",
    "\n",
    "gerenciador = GerenciadorBD()\n",
    "gerenciador.getIngredientes()"
   ]
  },
  {
   "cell_type": "code",
   "execution_count": null,
   "id": "496ba2b4",
   "metadata": {},
   "outputs": [],
   "source": [
    "#teste de leitura e estancia de ingredientes\n",
    "from gerenciadorBD import GerenciadorBD\n",
    "from ingrediente import Ingrediente, FactoryIngrediente\n",
    "\n",
    "gerenciador = GerenciadorBD()\n",
    "ids = gerenciador.getProximoID()\n",
    "\n",
    "ingredienteFactory = FactoryIngrediente(ids['ingredientes'])\n",
    "ingredientes_data = gerenciador.getIngredientes()\n",
    "ingredientes = []\n",
    "for data in ingredientes_data:\n",
    "    ingrediente = ingredienteFactory.FromDB(data)\n",
    "    ingredientes.append(ingrediente)\n",
    "\n",
    "for ingrediente in ingredientes:\n",
    "    ingrediente.print_ingrediente()"
   ]
  },
  {
   "cell_type": "code",
   "execution_count": null,
   "id": "3064e5d1",
   "metadata": {},
   "outputs": [],
   "source": [
    "#teste de leitura e estancia de ingredientes utilizando App\n",
    "from gerenciadorApp import GerenciadorApp\n",
    "gerenciadorApp = GerenciadorApp()\n",
    "\n",
    "# somente valores\n",
    "for ingrediente in gerenciadorApp.ingredientes.values():\n",
    "    ingrediente.print_ingrediente()\n"
   ]
  },
  {
   "cell_type": "code",
   "execution_count": null,
   "id": "b60544b4",
   "metadata": {},
   "outputs": [
    {
     "data": {
      "text/plain": [
       "[{'id_compra': 1,\n",
       "  'data_de_compra': '2025-10-01',\n",
       "  'valor_total': 250,\n",
       "  'ingredientes': [1, 2, 3],\n",
       "  'preco_ingredientes': {1: 5, 2: 7.5, 3: 14.5}}]"
      ]
     },
     "execution_count": 1,
     "metadata": {},
     "output_type": "execute_result"
    }
   ],
   "source": [
    "#teste de leitura e estancia de compras\n",
    "from gerenciadorBD import GerenciadorBD\n",
    "from compra import Compra, FactoryCompra\n",
    "\n",
    "gerenciador = GerenciadorBD()\n",
    "ids = gerenciador.getProximoID()\n",
    "\n",
    "gerenciador.getCompras()"
   ]
  },
  {
   "cell_type": "code",
   "execution_count": 1,
   "id": "f34b36d9",
   "metadata": {},
   "outputs": [
    {
     "name": "stdout",
     "output_type": "stream",
     "text": [
      "ID: 1, Data: 2025-10-01, Valor Total: 250.0, Ingredientes: [1, 2, 3], Preço Ingredientes: {1: 5, 2: 7.5, 3: 14.5}\n"
     ]
    }
   ],
   "source": [
    "#teste de leitura e estancia de compras utilizando App\n",
    "from gerenciadorApp import GerenciadorApp\n",
    "gerenciadorApp = GerenciadorApp()\n",
    "\n",
    "# somente valores\n",
    "for compra in gerenciadorApp.compras.values():\n",
    "    compra.print_compra()\n"
   ]
  },
  {
   "cell_type": "code",
   "execution_count": 1,
   "id": "99d9a81c",
   "metadata": {},
   "outputs": [
    {
     "data": {
      "text/plain": [
       "[{'id_marmita': 1,\n",
       "  'nome_marmita': 'Frango Grelhado c/ Arroz e Feijão',\n",
       "  'preco_venda': 25,\n",
       "  'custo_estimado': 8,\n",
       "  'ingredientes': [1, 2, 3, 7],\n",
       "  'quantidade_ingredientes': {1: 0.15, 2: 0.1, 3: 0.15, 7: 0.005}},\n",
       " {'id_marmita': 2,\n",
       "  'nome_marmita': 'Carne Moída c/ Purê',\n",
       "  'preco_venda': 28,\n",
       "  'custo_estimado': 10.5,\n",
       "  'ingredientes': [4, 5, 7, 8],\n",
       "  'quantidade_ingredientes': {4: 0.12, 5: 0.2, 7: 0.005, 8: 0.05}},\n",
       " {'id_marmita': 3,\n",
       "  'nome_marmita': 'Omelete Simples',\n",
       "  'preco_venda': 20,\n",
       "  'custo_estimado': 5,\n",
       "  'ingredientes': [6, 7],\n",
       "  'quantidade_ingredientes': {6: 3, 7: 0.003}}]"
      ]
     },
     "execution_count": 1,
     "metadata": {},
     "output_type": "execute_result"
    }
   ],
   "source": [
    "#teste de leitura e estancia de marmitas\n",
    "from gerenciadorBD import GerenciadorBD\n",
    "from marmita import Marmita, FactoryMarmita\n",
    "\n",
    "gerenciador = GerenciadorBD()\n",
    "ids = gerenciador.getProximoID()\n",
    "\n",
    "gerenciador.getMarmitas()"
   ]
  },
  {
   "cell_type": "code",
   "execution_count": 1,
   "id": "88418e1c",
   "metadata": {},
   "outputs": [
    {
     "name": "stdout",
     "output_type": "stream",
     "text": [
      "ID: 1, Ingredientes: [1, 2, 3, 7], Preço de Venda: 25, Custo Estimado: 8\n",
      "ID: 2, Ingredientes: [4, 5, 7, 8], Preço de Venda: 28, Custo Estimado: 10.5\n",
      "ID: 3, Ingredientes: [6, 7], Preço de Venda: 20, Custo Estimado: 5\n"
     ]
    }
   ],
   "source": [
    "#teste de leitura e estancia de compras utilizando App\n",
    "from gerenciadorApp import GerenciadorApp\n",
    "gerenciadorApp = GerenciadorApp()\n",
    "\n",
    "# somente valores\n",
    "for marmita in gerenciadorApp.marmitas.values():\n",
    "    marmita.print_marmita()"
   ]
  },
  {
   "cell_type": "code",
   "execution_count": null,
   "id": "5f838ace",
   "metadata": {},
   "outputs": [],
   "source": []
  }
 ],
 "metadata": {
  "kernelspec": {
   "display_name": "base",
   "language": "python",
   "name": "python3"
  },
  "language_info": {
   "codemirror_mode": {
    "name": "ipython",
    "version": 3
   },
   "file_extension": ".py",
   "mimetype": "text/x-python",
   "name": "python",
   "nbconvert_exporter": "python",
   "pygments_lexer": "ipython3",
   "version": "3.9.13"
  }
 },
 "nbformat": 4,
 "nbformat_minor": 5
}
